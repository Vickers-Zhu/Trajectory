{
 "cells": [
  {
   "cell_type": "code",
   "execution_count": 1,
   "metadata": {},
   "outputs": [
    {
     "name": "stdout",
     "output_type": "stream",
     "text": [
      "/Users/vickerszhu/Projects/Trajectory\n",
      "[[117, 5410, -14.1345, 67.567413, 59.483091, -0.02813721, -0.06334593, -0.01453372]]\n"
     ]
    }
   ],
   "source": [
    "%cd ..\n",
    "\n",
    "from trj_data_utils import read_trj_data\n",
    "\n",
    "# Set the filename\n",
    "filename = \"20191117-S3F4676E1#1S20.trj\"\n",
    "\n",
    "# Read the trajectory data\n",
    "data = read_trj_data(filename)\n",
    "\n",
    "# Plot the trajectories\n",
    "for trj in data:\n",
    "    if len(trj) < 10:\n",
    "        continue\n",
    "    X = []\n",
    "    Y = []\n",
    "    Z = []\n",
    "    for x in trj:\n",
    "        X.append(x[2])\n",
    "        Y.append(x[3])\n",
    "        Z.append(x[4])\n",
    "print(trj)"
   ]
  },
  {
   "cell_type": "code",
   "execution_count": 2,
   "metadata": {},
   "outputs": [
    {
     "ename": "ImportError",
     "evalue": "cannot import name 'kalman_filter' from 'scripts.kalman' (unknown location)",
     "output_type": "error",
     "traceback": [
      "\u001b[0;31m---------------------------------------------------------------------------\u001b[0m",
      "\u001b[0;31mImportError\u001b[0m                               Traceback (most recent call last)",
      "\u001b[1;32m/Users/vickerszhu/Projects/Trajectory/notebooks/kalman.ipynb Cell 2\u001b[0m line \u001b[0;36m2\n\u001b[1;32m      <a href='vscode-notebook-cell:/Users/vickerszhu/Projects/Trajectory/notebooks/kalman.ipynb#W1sZmlsZQ%3D%3D?line=0'>1</a>\u001b[0m \u001b[39mfrom\u001b[39;00m \u001b[39mcorrelation_delay\u001b[39;00m \u001b[39mimport\u001b[39;00m get_trajs_by_ids\n\u001b[0;32m----> <a href='vscode-notebook-cell:/Users/vickerszhu/Projects/Trajectory/notebooks/kalman.ipynb#W1sZmlsZQ%3D%3D?line=1'>2</a>\u001b[0m \u001b[39mfrom\u001b[39;00m \u001b[39mscripts\u001b[39;00m\u001b[39m.\u001b[39;00m\u001b[39mkalman\u001b[39;00m \u001b[39mimport\u001b[39;00m kalman_filter, plot_kalman_results\n\u001b[1;32m      <a href='vscode-notebook-cell:/Users/vickerszhu/Projects/Trajectory/notebooks/kalman.ipynb#W1sZmlsZQ%3D%3D?line=3'>4</a>\u001b[0m IDs \u001b[39m=\u001b[39m [\u001b[39m0\u001b[39m]\n\u001b[1;32m      <a href='vscode-notebook-cell:/Users/vickerszhu/Projects/Trajectory/notebooks/kalman.ipynb#W1sZmlsZQ%3D%3D?line=4'>5</a>\u001b[0m selected_trajectories \u001b[39m=\u001b[39m get_trajs_by_ids(data, IDs)\n",
      "\u001b[0;31mImportError\u001b[0m: cannot import name 'kalman_filter' from 'scripts.kalman' (unknown location)"
     ]
    }
   ],
   "source": [
    "from correlation_delay import get_trajs_by_ids\n",
    "from scripts.kalman.kalman import kalman_filter, plot_kalman_results\n",
    "\n",
    "IDs = [0]\n",
    "selected_trajectories = get_trajs_by_ids(data, IDs)\n",
    "\n",
    "xs = [row[2] for row in selected_trajectories[0]]\n",
    "ys = [row[3] for row in selected_trajectories[0]]\n",
    "zs = [row[4] for row in selected_trajectories[0]]\n",
    "\n",
    "\n",
    "T, XT, XTERR, ZT, SXX = kalman_filter(xs)\n",
    "plot_kalman_results(T, xs, XT, XTERR, ZT)\n",
    "T, XT, XTERR, ZT, SXX = kalman_filter(ys)\n",
    "plot_kalman_results(T, ys, XT, XTERR, ZT)\n",
    "T, XT, XTERR, ZT, SXX = kalman_filter(zs)\n",
    "plot_kalman_results(T, zs, XT, XTERR, ZT)\n"
   ]
  },
  {
   "cell_type": "code",
   "execution_count": null,
   "metadata": {},
   "outputs": [],
   "source": []
  },
  {
   "cell_type": "code",
   "execution_count": null,
   "metadata": {},
   "outputs": [],
   "source": []
  }
 ],
 "metadata": {
  "kernelspec": {
   "display_name": "venv",
   "language": "python",
   "name": "python3"
  },
  "language_info": {
   "codemirror_mode": {
    "name": "ipython",
    "version": 3
   },
   "file_extension": ".py",
   "mimetype": "text/x-python",
   "name": "python",
   "nbconvert_exporter": "python",
   "pygments_lexer": "ipython3",
   "version": "3.9.6"
  }
 },
 "nbformat": 4,
 "nbformat_minor": 2
}
