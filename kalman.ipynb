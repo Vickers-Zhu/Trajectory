{
 "cells": [
  {
   "cell_type": "code",
   "execution_count": null,
   "metadata": {},
   "outputs": [],
   "source": [
    "from trj_data_utils import read_trj_data\n",
    "\n",
    "# Set the filename\n",
    "filename = \"20191117-S3F4676E1#1S20.trj\"\n",
    "\n",
    "# Read the trajectory data\n",
    "data = read_trj_data(filename)\n",
    "\n",
    "# Plot the trajectories\n",
    "for trj in data:\n",
    "    if len(trj) < 10:\n",
    "        continue\n",
    "    X = []\n",
    "    Y = []\n",
    "    Z = []\n",
    "    for x in trj:\n",
    "        X.append(x[2])\n",
    "        Y.append(x[3])\n",
    "        Z.append(x[4])\n",
    "print(trj)"
   ]
  },
  {
   "cell_type": "code",
   "execution_count": null,
   "metadata": {},
   "outputs": [],
   "source": []
  }
 ],
 "metadata": {
  "language_info": {
   "name": "python"
  }
 },
 "nbformat": 4,
 "nbformat_minor": 2
}
