{
 "cells": [
  {
   "cell_type": "code",
   "execution_count": 2,
   "id": "cbbeb32e",
   "metadata": {},
   "outputs": [
    {
     "ename": "ModuleNotFoundError",
     "evalue": "No module named 'read_trj_data'",
     "output_type": "error",
     "traceback": [
      "\u001b[0;31m---------------------------------------------------------------------------\u001b[0m",
      "\u001b[0;31mModuleNotFoundError\u001b[0m                       Traceback (most recent call last)",
      "Cell \u001b[0;32mIn[2], line 1\u001b[0m\n\u001b[0;32m----> 1\u001b[0m \u001b[38;5;28;01mimport\u001b[39;00m \u001b[38;5;21;01mread_trj_data\u001b[39;00m\n\u001b[1;32m      2\u001b[0m filename \u001b[38;5;241m=\u001b[39m \u001b[38;5;124m\"\u001b[39m\u001b[38;5;124m20191117-S3F4676E1#1S20.trj\u001b[39m\u001b[38;5;124m\"\u001b[39m\n\u001b[1;32m      4\u001b[0m data \u001b[38;5;241m=\u001b[39m read_trj_data(filename)\n",
      "\u001b[0;31mModuleNotFoundError\u001b[0m: No module named 'read_trj_data'"
     ]
    }
   ],
   "source": [
    "# Import other necessary modules here\n",
    "import matplotlib.pyplot as plt\n",
    "from mpl_toolkits.mplot3d import axes3d\n",
    "\n",
    "# Define the read_trj_data function here\n",
    "from trj_data_reader import read_trj_data\n",
    "\n",
    "# Set the filename\n",
    "filename = \"20191117-S3F4676E1#1S20.trj\"\n",
    "\n",
    "# Read the trajectory data\n",
    "data = read_trj_data(filename)\n",
    "\n",
    "# Create the 3D plot\n",
    "ax = plt.axes(projection='3d')\n",
    "ax.view_init(elev=30, azim=-60)\n",
    "\n",
    "# Plot the trajectories\n",
    "for trj in data:\n",
    "    if len(trj) < 10:\n",
    "        continue\n",
    "    X = []\n",
    "    Y = []\n",
    "    Z = []\n",
    "    for x in trj:\n",
    "        X.append(x[1])\n",
    "        Y.append(x[2])\n",
    "        Z.append(x[3])\n",
    "    ax.plot3D(X, Y, Z, 'red', linewidth=0.4)\n",
    "\n",
    "# Set the plot title and labels\n",
    "ax.set_title('Trajectory: ' + filename)\n",
    "ax.set_xlabel('X')\n",
    "ax.set_ylabel('Y')\n",
    "ax.set_zlabel('Z')\n",
    "\n",
    "# Display the plot\n",
    "plt.grid(True)\n",
    "plt.show()\n"
   ]
  },
  {
   "cell_type": "code",
   "execution_count": null,
   "id": "bdb26e0e",
   "metadata": {},
   "outputs": [],
   "source": []
  }
 ],
 "metadata": {
  "kernelspec": {
   "display_name": "Python 3 (ipykernel)",
   "language": "python",
   "name": "python3"
  },
  "language_info": {
   "codemirror_mode": {
    "name": "ipython",
    "version": 3
   },
   "file_extension": ".py",
   "mimetype": "text/x-python",
   "name": "python",
   "nbconvert_exporter": "python",
   "pygments_lexer": "ipython3",
   "version": "3.9.6"
  }
 },
 "nbformat": 4,
 "nbformat_minor": 5
}
